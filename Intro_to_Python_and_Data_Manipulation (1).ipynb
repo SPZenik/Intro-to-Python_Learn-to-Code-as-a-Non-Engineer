{
  "cells": [
    {
      "cell_type": "markdown",
      "id": "145e75fb",
      "metadata": {
        "id": "145e75fb"
      },
      "source": [
        "# 🐍 Python & Data Manipulation for Beginners\n",
        "Welcome to this beginner-friendly notebook! This notebook will walk you through basic Python concepts and introduce you to data manipulation using `pandas` and `numpy`. Perfect if you're just getting started nad if you have a non engineering background\n",
        "Created by Serinmary Pulikkottil\n",
        "Email: serinvetmed@gmail.com\n",
        "Use of AI is acknowldged"
      ]
    },
    {
      "cell_type": "markdown",
      "id": "3c5886e9",
      "metadata": {
        "id": "3c5886e9"
      },
      "source": [
        "## 📘 Section 1: Introduction to Python\n",
        "Let's explore basic syntax, variables, data types, lists, and loops."
      ]
    },
    {
      "cell_type": "code",
      "execution_count": 1,
      "id": "6981a561",
      "metadata": {
        "colab": {
          "base_uri": "https://localhost:8080/"
        },
        "id": "6981a561",
        "outputId": "80d8cf97-d777-4a99-a95e-a101311840a0"
      },
      "outputs": [
        {
          "output_type": "stream",
          "name": "stdout",
          "text": [
            "Hello, world!\n"
          ]
        }
      ],
      "source": [
        "# 👋 Let's print our first message!\n",
        "print(\"Hello, world!\")  # This prints a simple message to the screen\n",
        "#you can use either '' or \"\" for printing text messages"
      ]
    },
    {
      "cell_type": "code",
      "execution_count": 2,
      "id": "ba2eeead",
      "metadata": {
        "colab": {
          "base_uri": "https://localhost:8080/"
        },
        "id": "ba2eeead",
        "outputId": "0cc56ba0-7e3d-49a0-9ff9-8c484d9d1511"
      },
      "outputs": [
        {
          "output_type": "stream",
          "name": "stdout",
          "text": [
            "Addition: 8\n",
            "Subtraction: 8\n",
            "Multiplication: 8\n",
            "Division: 4.0\n"
          ]
        }
      ],
      "source": [
        "# 🧮 Math operations\n",
        "print(\"Addition:\", 5 + 3)\n",
        "print(\"Subtraction:\", 10 - 2)\n",
        "print(\"Multiplication:\", 4 * 2)\n",
        "print(\"Division:\", 16 / 4)"
      ]
    },
    {
      "cell_type": "code",
      "execution_count": 3,
      "id": "fd6e36df",
      "metadata": {
        "colab": {
          "base_uri": "https://localhost:8080/"
        },
        "id": "fd6e36df",
        "outputId": "badc309a-ea54-425d-dafd-f3d051786323"
      },
      "outputs": [
        {
          "output_type": "stream",
          "name": "stdout",
          "text": [
            "Name: Serin\n",
            "Age: 27\n",
            "Is a student: True\n",
            "Type of name: <class 'str'>\n",
            "Type of age: <class 'int'>\n",
            "Type of is_student: <class 'bool'>\n"
          ]
        }
      ],
      "source": [
        "# 🗃️ Variables store information that we can reuse\n",
        "name = \"Serin\"\n",
        "age = 27\n",
        "is_student = True\n",
        "\n",
        "print(\"Name:\", name)\n",
        "print(\"Age:\", age)\n",
        "print(\"Is a student:\", is_student)\n",
        "print(\"Type of name:\", type(name))\n",
        "print(\"Type of age:\", type(age))\n",
        "print(\"Type of is_student:\", type(is_student))"
      ]
    },
    {
      "cell_type": "code",
      "execution_count": 4,
      "id": "b6935149",
      "metadata": {
        "colab": {
          "base_uri": "https://localhost:8080/"
        },
        "id": "b6935149",
        "outputId": "34c94114-6a05-4e56-8a86-0fd17aacd305"
      },
      "outputs": [
        {
          "output_type": "stream",
          "name": "stdout",
          "text": [
            "First color: red\n",
            "Updated list: ['red', 'green', 'blue', 'yellow']\n"
          ]
        }
      ],
      "source": [
        "# 📚 Lists and indexing\n",
        "#a list is simply a list\n",
        "#python starts at 0 so here 0th position is red, first is green\n",
        "colors = [\"red\", \"green\", \"blue\"]\n",
        "print(\"First color:\", colors[0])\n",
        "#append add things to the list\n",
        "colors.append(\"yellow\")\n",
        "print(\"Updated list:\", colors)"
      ]
    },
    {
      "cell_type": "code",
      "execution_count": 5,
      "id": "92babfe9",
      "metadata": {
        "colab": {
          "base_uri": "https://localhost:8080/"
        },
        "id": "92babfe9",
        "outputId": "6af54202-30fa-447a-a1f3-336b20232d15"
      },
      "outputs": [
        {
          "output_type": "stream",
          "name": "stdout",
          "text": [
            "Color: red\n",
            "Color: green\n",
            "Color: blue\n",
            "Color: yellow\n"
          ]
        }
      ],
      "source": [
        "# 🔁 Looping through a list\n",
        "#repition, they look at the first place if it is a color it prints color\n",
        "#python stores some information like colors, but it may not recognize everything\n",
        "#so human intelligence is needed for intervention\n",
        "for color in colors:\n",
        "    print(\"Color:\", color)"
      ]
    },
    {
      "cell_type": "markdown",
      "id": "582729bd",
      "metadata": {
        "id": "582729bd"
      },
      "source": [
        "## 📊 Section 2: Data Manipulation with pandas and numpy\n",
        "In this section, we will use two popular Python libraries to work with tabular data."
      ]
    },
    {
      "cell_type": "code",
      "execution_count": 7,
      "id": "6603df99",
      "metadata": {
        "id": "6603df99"
      },
      "outputs": [],
      "source": [
        "# 📦 Importing libraries\n",
        "#they help us do different things in python\n",
        "#there are more libraries that we will need depending on what we do\n",
        "#these are basically for data analysis\n",
        "import pandas as pd\n",
        "import numpy as np\n",
        "#we use import then library name then abbreviation"
      ]
    },
    {
      "cell_type": "code",
      "execution_count": 8,
      "id": "4f72118b",
      "metadata": {
        "colab": {
          "base_uri": "https://localhost:8080/"
        },
        "id": "4f72118b",
        "outputId": "836124e8-4485-4bbe-b5e7-e35b03457dac"
      },
      "outputs": [
        {
          "output_type": "stream",
          "name": "stdout",
          "text": [
            "DataFrame:\n",
            "      Name  Age  Score\n",
            "0     Anna   22     85\n",
            "1      Ben   25     90\n",
            "2  Charlie   23     78\n"
          ]
        }
      ],
      "source": [
        "# 🔹 Creating a DataFrame\n",
        "data = {\n",
        "    \"Name\": [\"Anna\", \"Ben\", \"Charlie\"],\n",
        "    \"Age\": [22, 25, 23],\n",
        "    \"Score\": [85, 90, 78]\n",
        "}\n",
        "df = pd.DataFrame(data)\n",
        "print(\"DataFrame:\")\n",
        "print(df)\n",
        "#dataframe is like a table without borders\n",
        "#again, indenxing is at 0"
      ]
    },
    {
      "cell_type": "code",
      "execution_count": 9,
      "id": "bc6e35de",
      "metadata": {
        "colab": {
          "base_uri": "https://localhost:8080/"
        },
        "id": "bc6e35de",
        "outputId": "1a80612b-9050-4741-9910-cd6cda050bba"
      },
      "outputs": [
        {
          "output_type": "stream",
          "name": "stdout",
          "text": [
            "Head of DataFrame:\n",
            "      Name  Age  Score\n",
            "0     Anna   22     85\n",
            "1      Ben   25     90\n",
            "2  Charlie   23     78\n",
            "\n",
            "Summary statistics:\n",
            "             Age      Score\n",
            "count   3.000000   3.000000\n",
            "mean   23.333333  84.333333\n",
            "std     1.527525   6.027714\n",
            "min    22.000000  78.000000\n",
            "25%    22.500000  81.500000\n",
            "50%    23.000000  85.000000\n",
            "75%    24.000000  87.500000\n",
            "max    25.000000  90.000000\n"
          ]
        }
      ],
      "source": [
        "# 🔍 Exploring the DataFrame\n",
        "print(\"Head of DataFrame:\")\n",
        "print(df.head())\n",
        "\n",
        "print(\"\\nSummary statistics:\") #summary of statistics\n",
        "print(df.describe())"
      ]
    },
    {
      "cell_type": "code",
      "execution_count": 10,
      "id": "99a334a1",
      "metadata": {
        "colab": {
          "base_uri": "https://localhost:8080/"
        },
        "id": "99a334a1",
        "outputId": "ff5db2ce-7edf-4c0c-c541-04c1901a5fcd"
      },
      "outputs": [
        {
          "output_type": "stream",
          "name": "stdout",
          "text": [
            "With 'Passed' column:\n",
            "      Name  Age  Score  Passed\n",
            "0     Anna   22     85    True\n",
            "1      Ben   25     90    True\n",
            "2  Charlie   23     78   False\n"
          ]
        }
      ],
      "source": [
        "# ➕ Adding a new column\n",
        "df[\"Passed\"] = df[\"Score\"] >= 80\n",
        "print(\"With 'Passed' column:\")\n",
        "print(df)"
      ]
    },
    {
      "cell_type": "code",
      "execution_count": 11,
      "id": "80192731",
      "metadata": {
        "colab": {
          "base_uri": "https://localhost:8080/"
        },
        "id": "80192731",
        "outputId": "6fa10240-ade7-44f3-a0b6-3f289b86086d"
      },
      "outputs": [
        {
          "output_type": "stream",
          "name": "stdout",
          "text": [
            "Students who passed:\n",
            "   Name  Age  Score  Passed\n",
            "0  Anna   22     85    True\n",
            "1   Ben   25     90    True\n"
          ]
        }
      ],
      "source": [
        "# 🧾 Filtering data\n",
        "passed_df = df[df[\"Passed\"] == True]\n",
        "print(\"Students who passed:\")\n",
        "print(passed_df)"
      ]
    },
    {
      "cell_type": "code",
      "execution_count": 12,
      "id": "99f3b95a",
      "metadata": {
        "colab": {
          "base_uri": "https://localhost:8080/"
        },
        "id": "99f3b95a",
        "outputId": "e73ef31c-060f-47e9-dfee-fbeb4beb1933"
      },
      "outputs": [
        {
          "output_type": "stream",
          "name": "stdout",
          "text": [
            "Average score of the class: 84.33333333333333\n"
          ]
        }
      ],
      "source": [
        "# 📈 Average score using numpy\n",
        "average_score = np.mean(df[\"Score\"])\n",
        "print(\"Average score of the class:\", average_score)"
      ]
    },
    {
      "cell_type": "markdown",
      "id": "3424727a",
      "metadata": {
        "id": "3424727a"
      },
      "source": [
        "## ✅ Summary\n",
        "In this notebook, you learned:\n",
        "- Basic Python syntax and operations\n",
        "- How to create and use lists and loops\n",
        "- Introduction to `pandas` and `numpy`\n",
        "- How to create a DataFrame, explore data, add columns, and filter rows\n",
        "\n",
        "Keep practicing, and happy coding! 🐍"
      ]
    }
  ],
  "metadata": {
    "colab": {
      "provenance": []
    },
    "language_info": {
      "name": "python"
    },
    "kernelspec": {
      "name": "python3",
      "display_name": "Python 3"
    }
  },
  "nbformat": 4,
  "nbformat_minor": 5
}